{
 "cells": [
  {
   "cell_type": "code",
   "execution_count": 5,
   "metadata": {},
   "outputs": [
    {
     "name": "stdout",
     "output_type": "stream",
     "text": [
      " 3000\n",
      "not a leap year\n"
     ]
    }
   ],
   "source": [
    "y=int(input(\" \"))\n",
    "if(y//4 == 0):\n",
    "    print(\"leap year\")\n",
    "else:\n",
    "    print(\"not a leap year\")"
   ]
  },
  {
   "cell_type": "markdown",
   "metadata": {},
   "source": [
    "### whileloop"
   ]
  },
  {
   "cell_type": "code",
   "execution_count": 1,
   "metadata": {},
   "outputs": [
    {
     "name": "stdout",
     "output_type": "stream",
     "text": [
      "enter a no:  78\n",
      "1 2 3 4 5 6 7 8 9 10 11 12 13 14 15 16 17 18 19 20 21 22 23 24 25 26 27 28 29 30 31 32 33 34 35 36 37 38 39 40 41 42 43 44 45 46 47 48 49 50 51 52 53 54 55 56 57 58 59 60 61 62 63 64 65 66 67 68 69 70 71 72 73 74 75 76 77 78 "
     ]
    }
   ],
   "source": [
    "# print n natural no\n",
    "# input=12\n",
    "# output expected 1,2,3........12\n",
    "n=int(input(\"enter a no:  \"))\n",
    "i=1\n",
    "while i <= n:\n",
    "    print(i,end=\" \")\n",
    "    i=i+1"
   ]
  },
  {
   "cell_type": "code",
   "execution_count": 6,
   "metadata": {},
   "outputs": [
    {
     "name": "stdout",
     "output_type": "stream",
     "text": [
      "enter a no:  70\n",
      "1260\n"
     ]
    }
   ],
   "source": [
    "n=int(input(\"enter a no:  \"))\n",
    "i=1\n",
    "h=0\n",
    "while i <= n:\n",
    "    if i%2==0:\n",
    "        h=h+i\n",
    "    i=i+1\n",
    "print(h)"
   ]
  },
  {
   "cell_type": "code",
   "execution_count": 22,
   "metadata": {},
   "outputs": [
    {
     "name": "stdout",
     "output_type": "stream",
     "text": [
      "enter a no: 10\n",
      "0 1 "
     ]
    }
   ],
   "source": [
    "# read a number as input and output has to be adigit of that no\n",
    "n=int(input(\"enter a no: \"))\n",
    "while n != 0:\n",
    "    print( n%10,end=\" \")\n",
    "    n=n // 10\n",
    "    "
   ]
  },
  {
   "cell_type": "markdown",
   "metadata": {},
   "source": [
    "## functioanl programming\n",
    "    -simple\n",
    "    -easy understand\n",
    "    -better reusability\n",
    "    -larger program divided into smaller program"
   ]
  },
  {
   "cell_type": "code",
   "execution_count": 37,
   "metadata": {},
   "outputs": [
    {
     "name": "stdout",
     "output_type": "stream",
     "text": [
      " 88\n"
     ]
    },
    {
     "data": {
      "text/plain": [
       "16"
      ]
     },
     "execution_count": 37,
     "metadata": {},
     "output_type": "execute_result"
    }
   ],
   "source": [
    "# read a number\n",
    "# print sum of even digit\n",
    "\n",
    "def read(n):\n",
    "    h=0\n",
    "    while n!=0:\n",
    "        i=n%10;\n",
    "        if i%2==0:\n",
    "            h=h+i\n",
    "        n=n//10\n",
    "    return h\n",
    "h=int(input(\" \"))\n",
    "read(h)"
   ]
  },
  {
   "cell_type": "code",
   "execution_count": 52,
   "metadata": {},
   "outputs": [
    {
     "data": {
      "text/plain": [
       "4"
      ]
     },
     "execution_count": 52,
     "metadata": {},
     "output_type": "execute_result"
    }
   ],
   "source": [
    "# read an number\n",
    "# print largestdigit of the number\n",
    "def larit(h):\n",
    "    k=0\n",
    "    while h!=0:\n",
    "        l=h%10\n",
    "        if k<l:\n",
    "            k=l\n",
    "        h=h//10\n",
    "    return k\n",
    "larit(1234)  "
   ]
  },
  {
   "cell_type": "code",
   "execution_count": 73,
   "metadata": {},
   "outputs": [
    {
     "name": "stdout",
     "output_type": "stream",
     "text": [
      "enter the no: 145\n",
      "equal\n"
     ]
    }
   ],
   "source": [
    "# read anumber\n",
    "# factorial of each digit is equal to number\n",
    "def fact(m):\n",
    "    if m==0 or m==1:\n",
    "        return 1\n",
    "    else:\n",
    "        k=m*fact(m-1)\n",
    "        return k\n",
    "def suf(j):\n",
    "    l=j\n",
    "    h=0\n",
    "    while j!=0:\n",
    "        m=j%10\n",
    "        h=h+fact(m)\n",
    "        j=j//10\n",
    "    if l==h:\n",
    "        print(\"equal\")\n",
    "    else:\n",
    "        print(\"not equal\")\n",
    "    return \n",
    "p=int(input(\"enter the no: \"))\n",
    "suf(p)\n",
    "    "
   ]
  },
  {
   "cell_type": "code",
   "execution_count": 82,
   "metadata": {},
   "outputs": [
    {
     "name": "stdout",
     "output_type": "stream",
     "text": [
      "900\n",
      "no\n"
     ]
    }
   ],
   "source": [
    "## input is a number \n",
    "# output  as palindrome or not\n",
    "def palin(h):\n",
    "    o=h\n",
    "    l=0\n",
    "    while h!=0:\n",
    "        k=h%10\n",
    "        l=k+l*10\n",
    "        h=h//10\n",
    "    if o==l:\n",
    "        print(\"yes\")\n",
    "    else:\n",
    "        print('no')\n",
    "    return\n",
    "palin(int(input('')))"
   ]
  },
  {
   "cell_type": "code",
   "execution_count": 101,
   "metadata": {},
   "outputs": [
    {
     "name": "stdout",
     "output_type": "stream",
     "text": [
      "10 11 12 13 14 15 16 17 18 19 "
     ]
    }
   ],
   "source": [
    "#function for promting values bw two limits\n",
    "def re(j,k):\n",
    "    for x in range(j,k):\n",
    "        print(x,end=\" \")\n",
    "    return\n",
    "re(10,20)"
   ]
  },
  {
   "cell_type": "code",
   "execution_count": 2,
   "metadata": {},
   "outputs": [
    {
     "name": "stdout",
     "output_type": "stream",
     "text": [
      "11 13 15 17 19 "
     ]
    }
   ],
   "source": [
    "#function for printing alternate values bw two limits\n",
    "def re(j,k):\n",
    "    for x in range(j,k):\n",
    "        if j%2==0:\n",
    "            if x%2==0:\n",
    "                print(x,end=\" \")\n",
    "        else:\n",
    "            if x%2!=0:\n",
    "                print(x,end=\" \")\n",
    "    return\n",
    "re(11,20)"
   ]
  },
  {
   "cell_type": "code",
   "execution_count": 11,
   "metadata": {},
   "outputs": [
    {
     "name": "stdout",
     "output_type": "stream",
     "text": [
      "1 2 3 4 6 12 "
     ]
    }
   ],
   "source": [
    "def fact(u):\n",
    "    for i in range(1,u+1):\n",
    "        if u%i==0:\n",
    "            print(i,end=\" \")\n",
    "    return\n",
    "fact(12)"
   ]
  },
  {
   "cell_type": "code",
   "execution_count": 14,
   "metadata": {},
   "outputs": [
    {
     "name": "stdout",
     "output_type": "stream",
     "text": [
      "prime no\n"
     ]
    }
   ],
   "source": [
    "def prime(u):\n",
    "    r=0\n",
    "    for i in range(1,u):\n",
    "        if ==0:\n",
    "            r=r+1\n",
    "    if r==1:\n",
    "        print(\"prime no\")\n",
    "    else:\n",
    "        print(\"not a prime\")\n",
    "    return\n",
    "prime(7)"
   ]
  },
  {
   "cell_type": "code",
   "execution_count": 40,
   "metadata": {},
   "outputs": [
    {
     "name": "stdout",
     "output_type": "stream",
     "text": [
      "10\n",
      "2\n",
      "3\n",
      "5\n",
      "7\n"
     ]
    }
   ],
   "source": [
    "def primeno(u):\n",
    "    for i in range(2,u):\n",
    "        if u%i==0:\n",
    "            return 0\n",
    "    return 1\n",
    "u=int(input(\"\"))\n",
    "f=0\n",
    "for x in range(2,u):\n",
    "    if primeno(x):\n",
    "        f=f+1\n",
    "        print(x)"
   ]
  },
  {
   "cell_type": "code",
   "execution_count": 52,
   "metadata": {},
   "outputs": [
    {
     "name": "stdout",
     "output_type": "stream",
     "text": [
      "1\n"
     ]
    }
   ],
   "source": [
    "def ctl(u,v):\n",
    "    m=0\n",
    "    l=0\n",
    "    for x in range(u,v):\n",
    "        t=x \n",
    "        while x!=0:\n",
    "            \n",
    "            h=x%10\n",
    "            m=h+m*10\n",
    "            x=x//10\n",
    "        if(t==m):\n",
    "            l=l+1\n",
    "    print(l)\n",
    "u=ctl(1,84)"
   ]
  },
  {
   "cell_type": "code",
   "execution_count": null,
   "metadata": {},
   "outputs": [],
   "source": []
  }
 ],
 "metadata": {
  "kernelspec": {
   "display_name": "Python 3",
   "language": "python",
   "name": "python3"
  },
  "language_info": {
   "codemirror_mode": {
    "name": "ipython",
    "version": 3
   },
   "file_extension": ".py",
   "mimetype": "text/x-python",
   "name": "python",
   "nbconvert_exporter": "python",
   "pygments_lexer": "ipython3",
   "version": "3.7.3"
  }
 },
 "nbformat": 4,
 "nbformat_minor": 2
}
