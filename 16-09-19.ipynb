{
 "cells": [
  {
   "cell_type": "markdown",
   "metadata": {},
   "source": [
    "###### python programming and Markdown"
   ]
  },
  {
   "cell_type": "markdown",
   "metadata": {},
   "source": [
    "  ### markdown example\n",
    "\n",
    "    -project1\n",
    "        -point1\n",
    "    -project2"
   ]
  },
  {
   "cell_type": "markdown",
   "metadata": {},
   "source": [
    "### example2\n",
    "* *hello*\n",
    "* **hello**\n",
    "* ***hello***"
   ]
  },
  {
   "cell_type": "markdown",
   "metadata": {},
   "source": [
    "<img src='download.jpg' />"
   ]
  },
  {
   "cell_type": "markdown",
   "metadata": {},
   "source": [
    "### adding links to markdowns\n",
    "* Google site-[google][1]\n",
    "[1]:https://www.google.com"
   ]
  },
  {
   "cell_type": "markdown",
   "metadata": {},
   "source": [
    "### python programming\n",
    "    -python version 3.7\n",
    "    -functional programming\n",
    "    -object oriented programming\n",
    "    -scripting programming"
   ]
  },
  {
   "cell_type": "code",
   "execution_count": 2,
   "metadata": {},
   "outputs": [
    {
     "name": "stdout",
     "output_type": "stream",
     "text": [
      "hello\n"
     ]
    }
   ],
   "source": [
    "print ('hello')"
   ]
  },
  {
   "cell_type": "code",
   "execution_count": 3,
   "metadata": {},
   "outputs": [
    {
     "name": "stdout",
     "output_type": "stream",
     "text": [
      "hello gitam |||vizag\n"
     ]
    }
   ],
   "source": [
    "print ('hello','gitam','|||',end='')\n",
    "print ('vizag')"
   ]
  },
  {
   "cell_type": "markdown",
   "metadata": {},
   "source": [
    "### datatypes and datatype conversion\n",
    "    -int\n",
    "    -float\n",
    "    -string"
   ]
  },
  {
   "cell_type": "markdown",
   "metadata": {},
   "source": [
    "a=2000\n",
    "b=9090909090909090909009\n",
    "c=90.0908089000090900\n",
    "print (type(b))\n",
    "print (b)\n",
    "print (type(c))\n",
    "print (c)\n",
    "print(\"hello world\")\n",
    "s='hello hell'\n",
    "print (s)\n",
    "print (a)\n",
    "print (type(a))\n",
    "print (type('abcgd'))\n"
   ]
  },
  {
   "cell_type": "markdown",
   "metadata": {},
   "source": [
    "# data type conversions\n",
    "    -int()\n",
    "### converts input into the int type\n",
    "     -flaot()\n",
    "### converts input into the flaot type\n",
    "     -str()\n",
    "### converts input into the string type"
   ]
  },
  {
   "cell_type": "code",
   "execution_count": 13,
   "metadata": {},
   "outputs": [
    {
     "name": "stdout",
     "output_type": "stream",
     "text": [
      "1000<class 'int'>\n",
      "1000<class 'str'>\n"
     ]
    }
   ],
   "source": [
    "a=1000\n",
    "print (a,end='')\n",
    "print (type(a))\n",
    "s = str(a)\n",
    "print (s,end='')\n",
    "print (type(s))"
   ]
  },
  {
   "cell_type": "code",
   "execution_count": 20,
   "metadata": {},
   "outputs": [
    {
     "name": "stdout",
     "output_type": "stream",
     "text": [
      "10.9<class 'float'>\n",
      "10<class 'int'>\n",
      "10<class 'str'>\n"
     ]
    }
   ],
   "source": [
    "s=10.9\n",
    "print(s,end='')\n",
    "print(type(s))\n",
    "l=int(s)\n",
    "print(l,end='')\n",
    "print(type(l))\n",
    "i=str(l)\n",
    "print(i,end='')\n",
    "print(type(i))"
   ]
  },
  {
   "cell_type": "code",
   "execution_count": 21,
   "metadata": {},
   "outputs": [
    {
     "name": "stdout",
     "output_type": "stream",
     "text": [
      "4\n"
     ]
    }
   ],
   "source": [
    "s=1000\n",
    "print(len(str(s)))"
   ]
  },
  {
   "cell_type": "markdown",
   "metadata": {},
   "source": [
    "### input() functon\n",
    "    -reads input to the python program\n",
    "    -reads input in terms of string format"
   ]
  },
  {
   "cell_type": "code",
   "execution_count": 24,
   "metadata": {},
   "outputs": [
    {
     "name": "stdout",
     "output_type": "stream",
     "text": [
      "enter9080\n",
      "9080 <class 'str'>\n"
     ]
    }
   ],
   "source": [
    "s=input('enter')\n",
    "print (s,type(s))"
   ]
  },
  {
   "cell_type": "code",
   "execution_count": 34,
   "metadata": {},
   "outputs": [
    {
     "name": "stdout",
     "output_type": "stream",
     "text": [
      "enter98080\n",
      "98080 <class 'int'>\n"
     ]
    }
   ],
   "source": [
    "a=int(input('enter'))\n",
    "print(a,type(a))"
   ]
  },
  {
   "cell_type": "code",
   "execution_count": 35,
   "metadata": {},
   "outputs": [
    {
     "name": "stdout",
     "output_type": "stream",
     "text": [
      "enter90.09\n",
      "90.09 <class 'float'>\n"
     ]
    }
   ],
   "source": [
    "a=float(input('enter'))\n",
    "print(a,type(a))"
   ]
  },
  {
   "cell_type": "markdown",
   "metadata": {},
   "source": [
    "## operators\n",
    "    - +\n",
    "    - -\n",
    "    - *\n",
    "    - /\n",
    "    - //"
   ]
  },
  {
   "cell_type": "code",
   "execution_count": 36,
   "metadata": {},
   "outputs": [
    {
     "name": "stdout",
     "output_type": "stream",
     "text": [
      "3.3333333333333335\n",
      "3\n",
      "20\n",
      "100\n"
     ]
    }
   ],
   "source": [
    "print(10/3)\n",
    "print(10//3)\n",
    "print(10*2)\n",
    "print(10**2)"
   ]
  },
  {
   "cell_type": "code",
   "execution_count": 42,
   "metadata": {},
   "outputs": [
    {
     "name": "stdout",
     "output_type": "stream",
     "text": [
      "8.0\n"
     ]
    }
   ],
   "source": [
    "# preceding levels of opreators\n",
    "# power, division,addition\n",
    "x= 1 + 2 ** 3 / 4 + 5\n",
    "print(x)"
   ]
  },
  {
   "cell_type": "code",
   "execution_count": null,
   "metadata": {},
   "outputs": [],
   "source": []
  },
  {
   "cell_type": "markdown",
   "metadata": {},
   "source": [
    "### logical op\n",
    "    -AND\n",
    "    -OR\n",
    "    -NOT"
   ]
  },
  {
   "cell_type": "code",
   "execution_count": 44,
   "metadata": {},
   "outputs": [
    {
     "name": "stdout",
     "output_type": "stream",
     "text": [
      "False <class 'bool'>\n",
      "True <class 'bool'>\n"
     ]
    }
   ],
   "source": [
    "a=90\n",
    "b=(a>9)and(a>1000)\n",
    "print(b,type(b))\n",
    "c=(a>9)or(a>100)\n",
    "print(c,type(c))\n"
   ]
  },
  {
   "cell_type": "markdown",
   "metadata": {},
   "source": [
    "# control flow statements\n",
    "    -* *conditional statements*\n",
    "        -IF-ELSE\n",
    "    * *looping statements*\n",
    "        -while\n",
    "        -for"
   ]
  },
  {
   "cell_type": "code",
   "execution_count": 46,
   "metadata": {},
   "outputs": [
    {
     "name": "stdout",
     "output_type": "stream",
     "text": [
      "99\n",
      "odd\n"
     ]
    }
   ],
   "source": [
    "# read a num as input \n",
    "# print output even or odd\n",
    "a=int(input(\"\"))\n",
    "if a%2==0:\n",
    "    print(\"even\")\n",
    "else:\n",
    "    print(\"odd\")"
   ]
  },
  {
   "cell_type": "code",
   "execution_count": 48,
   "metadata": {},
   "outputs": [
    {
     "name": "stdout",
     "output_type": "stream",
     "text": [
      "-90\n",
      "negative\n"
     ]
    }
   ],
   "source": [
    "a1=int(input(\"\"))\n",
    "if a1==0:\n",
    "    print(\"zero\")\n",
    "elif a1>0:\n",
    "    print(\"postive\")\n",
    "elif a1<0:\n",
    "    print(\"negative\")"
   ]
  },
  {
   "cell_type": "code",
   "execution_count": 50,
   "metadata": {},
   "outputs": [
    {
     "name": "stdout",
     "output_type": "stream",
     "text": [
      "90\n",
      "postive\n"
     ]
    }
   ],
   "source": [
    "a1=int(input(\"\"))\n",
    "if a1==0:\n",
    "    print(\"zero\")\n",
    "if a1>0:\n",
    "    print(\"postive\")\n",
    "if a1<0:\n",
    "    print(\"negative\")"
   ]
  },
  {
   "cell_type": "code",
   "execution_count": null,
   "metadata": {},
   "outputs": [],
   "source": []
  }
 ],
 "metadata": {
  "kernelspec": {
   "display_name": "Python 3",
   "language": "python",
   "name": "python3"
  },
  "language_info": {
   "codemirror_mode": {
    "name": "ipython",
    "version": 3
   },
   "file_extension": ".py",
   "mimetype": "text/x-python",
   "name": "python",
   "nbconvert_exporter": "python",
   "pygments_lexer": "ipython3",
   "version": "3.7.3"
  }
 },
 "nbformat": 4,
 "nbformat_minor": 2
}
