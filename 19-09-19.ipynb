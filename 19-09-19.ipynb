{
 "cells": [
  {
   "cell_type": "code",
   "execution_count": 5,
   "metadata": {},
   "outputs": [
    {
     "name": "stdout",
     "output_type": "stream",
     "text": [
      "enter the word: hello world my name\n",
      "hello my "
     ]
    }
   ],
   "source": [
    "def modif(s):\n",
    "    li=s.split()\n",
    "    x=1\n",
    "    for x in range(len(li)):\n",
    "        if(x%2==0):\n",
    "            print(li[x],end=\" \")\n",
    "    return\n",
    "s=str(input(\"enter the word: \"))\n",
    "modif(s)"
   ]
  },
  {
   "cell_type": "code",
   "execution_count": 14,
   "metadata": {},
   "outputs": [
    {
     "name": "stdout",
     "output_type": "stream",
     "text": [
      "enter the word: hello\n",
      "l\n"
     ]
    },
    {
     "data": {
      "text/plain": [
       "2"
      ]
     },
     "execution_count": 14,
     "metadata": {},
     "output_type": "execute_result"
    }
   ],
   "source": [
    "\n",
    "def charcount(s,n):\n",
    "    li= list(s)\n",
    "    h=0\n",
    "    for x in range(len(li)):\n",
    "            if(li[x]==n):\n",
    "                h=h+1    \n",
    "    return h\n",
    "s=str(input(\"enter the word: \"))\n",
    "n=str(input(\"\"))\n",
    "charcount(s,n)"
   ]
  },
  {
   "cell_type": "code",
   "execution_count": 7,
   "metadata": {},
   "outputs": [
    {
     "name": "stdout",
     "output_type": "stream",
     "text": [
      "enter a word:  hello98\n",
      "8\n"
     ]
    }
   ],
   "source": [
    "def checki(s):\n",
    "    m=0\n",
    "    for x in range(0,len(s)):\n",
    "     if ord(s[x])>=48 and ord(s[x])<=57:\n",
    "        k=int(s[x])\n",
    "        if(k%2==0):\n",
    "            m=m+k\n",
    "    print(m)\n",
    "    return\n",
    "checki(str(input(\"enter a word:  \")))"
   ]
  },
  {
   "cell_type": "code",
   "execution_count": 8,
   "metadata": {},
   "outputs": [
    {
     "name": "stdout",
     "output_type": "stream",
     "text": [
      "enter a sentence:   Hello\n",
      "hELLO"
     ]
    }
   ],
   "source": [
    "def modify(s):\n",
    "    h=0\n",
    "    for i in range(len(s)):\n",
    "            if ord(s[i])>=65 and ord(s[i])<=90:\n",
    "                print(chr(ord(s[i])+32),end=\"\")\n",
    "            elif ord(s[i])>=97 and ord(s[i])<=122:\n",
    "                print(chr(ord(s[i])-32),end=\"\")\n",
    "    return\n",
    "modify(str(input(\"enter a sentence:   \")))"
   ]
  },
  {
   "cell_type": "markdown",
   "metadata": {},
   "source": [
    "## string methods\n",
    "    -upper() --changes string into upper case\n",
    "    -lower() --changes string into lower case\n",
    "    -split() --returns the list of strings sperated by a space\n",
    "    -replace()  --it replaces given chracter in a sting with anthore character\n",
    "    -join()   --it adds a given character beside every charcter of the string"
   ]
  },
  {
   "cell_type": "code",
   "execution_count": 32,
   "metadata": {},
   "outputs": [
    {
     "name": "stdout",
     "output_type": "stream",
     "text": [
      "PYTHON\n",
      "python\n",
      "he$$o\n",
      "['h', 'llo']\n",
      "haealalao\n"
     ]
    }
   ],
   "source": [
    "ss=\"python\"\n",
    "print(ss.upper())\n",
    "sq=\"PYTHON\"\n",
    "print(sq.lower())\n",
    "sw=\"hello\"\n",
    "print(sw.replace('l','$'))\n",
    "print(sw.split('e'))\n",
    "print(\"a\".join(sw))"
   ]
  },
  {
   "cell_type": "markdown",
   "metadata": {},
   "source": [
    "## string bollean function\n",
    "    -true or false\n",
    "    -islower() --true if the string has all characters lower case\n",
    "    -isupper() --true if the string has all characters upper case\n",
    "    -istitle() --true if the string is title case\n",
    "    -isnumeric() --true if the string has numerics\n",
    "    -isalpha() --true if string is has onlly characters\n",
    "    -isspace() --true if string has space"
   ]
  },
  {
   "cell_type": "code",
   "execution_count": 26,
   "metadata": {},
   "outputs": [
    {
     "name": "stdout",
     "output_type": "stream",
     "text": [
      "True\n",
      "False\n",
      "True\n",
      "False\n",
      "False\n",
      "True\n",
      "True\n",
      "False\n",
      "True\n",
      "HELLO\n"
     ]
    }
   ],
   "source": [
    "s=\"python\"\n",
    "print(s.islower())\n",
    "print(s.isupper())\n",
    "s1=\"Python\"\n",
    "print(s1.istitle())\n",
    "s4=\"Python programming\"\n",
    "print(s4.istitle())\n",
    "s2=\"234hula\"\n",
    "print(s2.isnumeric())\n",
    "s3=\"6788\"\n",
    "print(s3.isnumeric())\n",
    "s5=\"hello\"\n",
    "s6=\"89hh\"\n",
    "print(s5.isalpha())\n",
    "print(s6.isalpha())\n",
    "s7=\" \"\n",
    "print(s7.isspace())"
   ]
  },
  {
   "cell_type": "markdown",
   "metadata": {},
   "source": [
    "### stirng formatting\n",
    "    -classic version\n",
    "    -current version python\n",
    "    "
   ]
  },
  {
   "cell_type": "code",
   "execution_count": 34,
   "metadata": {},
   "outputs": [
    {
     "name": "stdout",
     "output_type": "stream",
     "text": [
      "heaven hell\n"
     ]
    }
   ],
   "source": [
    "#classic version\n",
    "li=[\"hell\",\"heaven\"]\n",
    "print( \"%s %s\"%(li[1],li[0]))"
   ]
  },
  {
   "cell_type": "code",
   "execution_count": 36,
   "metadata": {},
   "outputs": [
    {
     "name": "stdout",
     "output_type": "stream",
     "text": [
      "list Item 0: hell\n",
      "List Item 1: heaven\n"
     ]
    }
   ],
   "source": [
    "#current\n",
    "print(\"list Item 0: {0}\\nList Item 1: {1}\".format(li[0],li[1]))"
   ]
  },
  {
   "cell_type": "markdown",
   "metadata": {},
   "source": [
    "### data structers\n",
    "    -list\n",
    "    -toples\n",
    "    -dictionaries"
   ]
  },
  {
   "cell_type": "markdown",
   "metadata": {},
   "source": [
    "### dictionaries\n",
    "    -it works on concept of unique data\n",
    "    -key value is the unique identifier a value\n",
    "    -each key is sperated from value colon(:)\n",
    "    -each key and value is sperated by comma(,)\n",
    "    -dictionaries are enclosed with curly brackets({})"
   ]
  },
  {
   "cell_type": "code",
   "execution_count": 37,
   "metadata": {},
   "outputs": [
    {
     "name": "stdout",
     "output_type": "stream",
     "text": [
      "{'name': 'gowtham', 'emailId': 'gowtham456@gmail.com', 'address': 'vizag'}\n"
     ]
    }
   ],
   "source": [
    "d1={\"name\":\"gowtham\",\"emailId\":\"gowtham456@gmail.com\",\"address\":\"vizag\"}\n",
    "print(d1)"
   ]
  },
  {
   "cell_type": "code",
   "execution_count": 38,
   "metadata": {},
   "outputs": [
    {
     "data": {
      "text/plain": [
       "'gowtham456@gmail.com'"
      ]
     },
     "execution_count": 38,
     "metadata": {},
     "output_type": "execute_result"
    }
   ],
   "source": [
    "#to access specific key value\n",
    "d1[\"emailId\"]"
   ]
  },
  {
   "cell_type": "code",
   "execution_count": 39,
   "metadata": {},
   "outputs": [
    {
     "data": {
      "text/plain": [
       "'gitam'"
      ]
     },
     "execution_count": 39,
     "metadata": {},
     "output_type": "execute_result"
    }
   ],
   "source": [
    "#to update key value\n",
    "d1[\"emailId\"]=\"gitam\"\n",
    "d1[\"emailId\"]"
   ]
  },
  {
   "cell_type": "code",
   "execution_count": 46,
   "metadata": {},
   "outputs": [
    {
     "data": {
      "text/plain": [
       "dict_keys(['name', 'emailId', 'address'])"
      ]
     },
     "execution_count": 46,
     "metadata": {},
     "output_type": "execute_result"
    }
   ],
   "source": [
    "d1.keys()#return all key values"
   ]
  },
  {
   "cell_type": "code",
   "execution_count": 45,
   "metadata": {},
   "outputs": [
    {
     "data": {
      "text/plain": [
       "dict_values(['gowtham', 'gitam', 'vizag'])"
      ]
     },
     "execution_count": 45,
     "metadata": {},
     "output_type": "execute_result"
    }
   ],
   "source": [
    "d1.values()#return all values"
   ]
  },
  {
   "cell_type": "code",
   "execution_count": 47,
   "metadata": {},
   "outputs": [
    {
     "data": {
      "text/plain": [
       "dict_keys(['name', 'address'])"
      ]
     },
     "execution_count": 47,
     "metadata": {},
     "output_type": "execute_result"
    }
   ],
   "source": [
    "del d1[\"emailId\"]\n",
    "d1.keys()"
   ]
  },
  {
   "cell_type": "code",
   "execution_count": 48,
   "metadata": {},
   "outputs": [],
   "source": [
    "del d1"
   ]
  },
  {
   "cell_type": "code",
   "execution_count": 49,
   "metadata": {},
   "outputs": [
    {
     "ename": "NameError",
     "evalue": "name 'd1' is not defined",
     "output_type": "error",
     "traceback": [
      "\u001b[1;31m---------------------------------------------------------------------------\u001b[0m",
      "\u001b[1;31mNameError\u001b[0m                                 Traceback (most recent call last)",
      "\u001b[1;32m<ipython-input-49-2d3a24957153>\u001b[0m in \u001b[0;36m<module>\u001b[1;34m\u001b[0m\n\u001b[1;32m----> 1\u001b[1;33m \u001b[0md1\u001b[0m\u001b[1;33m\u001b[0m\u001b[1;33m\u001b[0m\u001b[0m\n\u001b[0m",
      "\u001b[1;31mNameError\u001b[0m: name 'd1' is not defined"
     ]
    }
   ],
   "source": [
    "d1"
   ]
  },
  {
   "cell_type": "markdown",
   "metadata": {},
   "source": [
    "## contact application\n",
    "       -add contact detail"
   ]
  },
  {
   "cell_type": "code",
   "execution_count": 59,
   "metadata": {},
   "outputs": [
    {
     "name": "stdout",
     "output_type": "stream",
     "text": [
      "details added succesfully\n",
      "details added succesfully\n",
      "contact already exist\n",
      "{'gowtham': '8989809999', 'sunny': '9090990000'}\n"
     ]
    }
   ],
   "source": [
    "contacts = {}#empty dict object\n",
    "#lets create a function to create contact details\n",
    "def addcon(name,phone):\n",
    "    if name not in contacts:#cond to check name exist or not\n",
    "        contacts[name] =phone\n",
    "        print(\"details added succesfully\")\n",
    "    else:\n",
    "        print(\"contact already exist\")\n",
    "    return\n",
    "addcon(\"gowtham\",\"8989809999\")\n",
    "addcon(\"sunny\",\"9090990000\")\n",
    "addcon(\"gowtham\",\"7878898898\")\n",
    "print(contacts)"
   ]
  },
  {
   "cell_type": "code",
   "execution_count": 101,
   "metadata": {},
   "outputs": [
    {
     "name": "stdout",
     "output_type": "stream",
     "text": [
      "enter the name: goat \n",
      "enter the no: 9090909090\n",
      "details added succesfully\n"
     ]
    }
   ],
   "source": [
    "contacts = {}#empty dict object\n",
    "#lets create a function to create contact details\n",
    "def addcon(name,phone):\n",
    "    if len(phone)>10 or len(phone)<10:\n",
    "        print(\"invalid no contact not added\")\n",
    "    elif name not in contacts:#cond to check name exist or not\n",
    "        contacts[name] =phone\n",
    "        print(\"details added succesfully\")\n",
    "    else:\n",
    "        print(\"contact already exist\")\n",
    "    return\n",
    "name=input(\"enter the name: \")\n",
    "phone=input(\"enter the no: \")\n",
    "addcon(name,phone)"
   ]
  },
  {
   "cell_type": "code",
   "execution_count": 89,
   "metadata": {},
   "outputs": [
    {
     "name": "stdout",
     "output_type": "stream",
     "text": [
      "enter the name: gowtham\n",
      "gowtham : 9090909090\n"
     ]
    }
   ],
   "source": [
    "#searching of name\n",
    "def searchcon(name):\n",
    "    if name in contacts:\n",
    "        print(name, \":\",contacts[name])\n",
    "    else:\n",
    "        print(name, \"contact does not exist\")\n",
    "    return\n",
    "name=input(\"enter the name: \")\n",
    "searchcon(name)"
   ]
  },
  {
   "cell_type": "code",
   "execution_count": 106,
   "metadata": {},
   "outputs": [
    {
     "name": "stdout",
     "output_type": "stream",
     "text": [
      "3 contacts are added\n"
     ]
    }
   ],
   "source": [
    "#impot new contacts\n",
    "#merege previous details with new deatils\n",
    "def importcon(newcon):\n",
    "    contacts.update(newcon)\n",
    "    print(len(newcontacts.keys()),\"contacts are added\")\n",
    "    return\n",
    "newcon={\"gitam\":9808098709,\"sauske\":8998809008,\"sakura\":870654321}\n",
    "importcon(newcon)"
   ]
  },
  {
   "cell_type": "code",
   "execution_count": 112,
   "metadata": {},
   "outputs": [
    {
     "data": {
      "text/plain": [
       "{'goat ': '9090909090',\n",
       " 'gitam': 9808098709,\n",
       " 'sauske': 8998809008,\n",
       " 'sakura': 870654321}"
      ]
     },
     "execution_count": 112,
     "metadata": {},
     "output_type": "execute_result"
    }
   ],
   "source": [
    "contacts"
   ]
  },
  {
   "cell_type": "code",
   "execution_count": 113,
   "metadata": {},
   "outputs": [
    {
     "name": "stdout",
     "output_type": "stream",
     "text": [
      "enter the name: sauske\n",
      "enter the no: 9090909090\n",
      "updated succesfully\n"
     ]
    }
   ],
   "source": [
    "def modifycon(name,phone):\n",
    "    if name in contacts:\n",
    "        contacts[name]=phone\n",
    "        print(\"updated succesfully\")\n",
    "    else:\n",
    "        print(name, \"contact does not exist\")\n",
    "    return\n",
    "name=input(\"enter the name: \")\n",
    "phone=input(\"enter the no: \")\n",
    "modifycon(name,phone)"
   ]
  },
  {
   "cell_type": "code",
   "execution_count": 114,
   "metadata": {},
   "outputs": [
    {
     "name": "stdout",
     "output_type": "stream",
     "text": [
      "enter the name: sauske\n",
      "deleted succesfully\n"
     ]
    }
   ],
   "source": [
    "def deletecon(name):\n",
    "    if name in contacts:\n",
    "        del contacts[name]\n",
    "        print(\"deleted succesfully\")\n",
    "    else:\n",
    "        print(\"not present\")\n",
    "    return\n",
    "name=input(\"enter the name: \")\n",
    "deletecon(name)"
   ]
  },
  {
   "cell_type": "code",
   "execution_count": 115,
   "metadata": {},
   "outputs": [
    {
     "data": {
      "text/plain": [
       "{'goat ': '9090909090', 'gitam': 9808098709, 'sakura': 870654321}"
      ]
     },
     "execution_count": 115,
     "metadata": {},
     "output_type": "execute_result"
    }
   ],
   "source": [
    "contacts\n"
   ]
  },
  {
   "cell_type": "markdown",
   "metadata": {},
   "source": [
    "## tuples\n",
    "    -tuples enclosed with in parnathesis()\n",
    "### diff bw tuples and list\n",
    "    -lists are mutable \n",
    "        -read and write the data\n",
    "    where as tuples are imutable\n",
    "        -red only data"
   ]
  },
  {
   "cell_type": "code",
   "execution_count": 116,
   "metadata": {},
   "outputs": [
    {
     "name": "stdout",
     "output_type": "stream",
     "text": [
      "(1, 2, 3, 4)\n"
     ]
    }
   ],
   "source": [
    "tu =(1,2,3,4)\n",
    "print(tu)"
   ]
  },
  {
   "cell_type": "markdown",
   "metadata": {},
   "source": [
    "## standard libraries\n",
    "    -regular expressions\n",
    "        -to validate the indian mobile no\n",
    "        -to validate emailid\n",
    "        -to validate username\n",
    "        -to validate password\n",
    "    -understanding the regular expression\n",
    "        [0-9] -any digit matching\n",
    "        [a-z] -any lowercase matching\n",
    "        [A-Z] -any uppercase matching\n",
    "        cap symobol is used to represent the start of regualr expression\n",
    "        DOLLAR SYMBOL IS USED TO REPRESENT THE END OF REGULAR EXPRESSION"
   ]
  },
  {
   "cell_type": "code",
   "execution_count": 121,
   "metadata": {},
   "outputs": [
    {
     "name": "stdout",
     "output_type": "stream",
     "text": [
      "True\n"
     ]
    }
   ],
   "source": [
    "#FUNCTION TO TEST THE TWO DIGIT NO AS INPUT\n",
    "#TRUE INPUT TWO DIGIT NO\n",
    "#FALSE INPUT NOT ATWO DIGIT\n",
    "import re\n",
    "def twomatch(n):\n",
    "    pattern='^[0-9]{2}$'\n",
    "    n=str(n)\n",
    "    if re.match(pattern,n):\n",
    "        return True\n",
    "    return False\n",
    "print(twomatch(45))"
   ]
  },
  {
   "cell_type": "code",
   "execution_count": 123,
   "metadata": {},
   "outputs": [
    {
     "name": "stdout",
     "output_type": "stream",
     "text": [
      "enter the username: darkeemperor\n"
     ]
    },
    {
     "data": {
      "text/plain": [
       "True"
      ]
     },
     "execution_count": 123,
     "metadata": {},
     "output_type": "execute_result"
    }
   ],
   "source": [
    "#regular expression for username\n",
    "#usernmae -should contain lower and upper case chracters\n",
    "#lenght should be min 5 max 12\n",
    "import re\n",
    "def username(n):\n",
    "    pattern='^[a-zA-Z]{5,12}$'\n",
    "    if re.match(pattern,n):\n",
    "        return True\n",
    "    return False\n",
    "n=input(\"enter the username: \")\n",
    "username(n)"
   ]
  },
  {
   "cell_type": "markdown",
   "metadata": {},
   "source": [
    "### regular expression\n",
    "    -regualar expression for roll number\n",
    "    -regualar expression for password min 6 max 10\n",
    "        -accept lower case,uppercase and spl(@,!#)"
   ]
  },
  {
   "cell_type": "code",
   "execution_count": 2,
   "metadata": {},
   "outputs": [
    {
     "name": "stdout",
     "output_type": "stream",
     "text": [
      "enter the password:  helllLl%\n",
      "check the requirment password not created\n"
     ]
    }
   ],
   "source": [
    "import re\n",
    "def password(pas):\n",
    "    pattern='^[a-zA-Z@!]{6,10}$'\n",
    "    if re.match(pattern,pas):\n",
    "        print(\"password created\")\n",
    "    else:\n",
    "        print(\"check the requirment password not created\")\n",
    "    return\n",
    "s=input(\"enter the password:  \")\n",
    "password(s) "
   ]
  },
  {
   "cell_type": "code",
   "execution_count": 7,
   "metadata": {},
   "outputs": [
    {
     "name": "stdout",
     "output_type": "stream",
     "text": [
      "enter the roll:  12324218498120\n",
      "check the requirment rollno not created\n"
     ]
    }
   ],
   "source": [
    "import re\n",
    "def rollno(ro):\n",
    "    pattern='^[0-9A-E]{12}$'\n",
    "    if re.match(pattern,ro):\n",
    "        print(\"rollno created\")\n",
    "    else:\n",
    "        print(\"check the requirment rollno not created\")\n",
    "    return\n",
    "ro=(input(\"enter the roll:  \"))\n",
    "rollno(ro) "
   ]
  },
  {
   "cell_type": "code",
   "execution_count": 9,
   "metadata": {},
   "outputs": [
    {
     "name": "stdout",
     "output_type": "stream",
     "text": [
      "enter the number:  5678901234\n",
      "number not registerd\n"
     ]
    }
   ],
   "source": [
    "import re\n",
    "def number(num):\n",
    "    s=str(num)\n",
    "    pattern=\"^[6-9][0-9]{9}$|^[0][6-9][0-9]{9}$|^[+][9][1][6-9][0-9]{9}$\"\n",
    "    if re.match(pattern,s):\n",
    "        print(\"number registerd\")\n",
    "    else:\n",
    "        print(\"number not registerd\")\n",
    "    return\n",
    "num=(input(\"enter the number:  \"))\n",
    "number(num) "
   ]
  },
  {
   "cell_type": "code",
   "execution_count": 15,
   "metadata": {},
   "outputs": [
    {
     "name": "stdout",
     "output_type": "stream",
     "text": [
      "enter the email:  gowtham_kar456@yahoo.in\n",
      "email registered\n"
     ]
    }
   ],
   "source": [
    "import re\n",
    "def emailid(eam):\n",
    "    pattern='^[a-zA-Z0-9_]{3,18}[@][a-z]{4,7}[.a-z]{2,4}$'\n",
    "    if re.match(pattern,eam):\n",
    "        print(\"email registered\")\n",
    "    else:\n",
    "        print(\"check the requirment email not registered\")\n",
    "    return\n",
    "s=input(\"enter the email:  \")\n",
    "emailid(s) "
   ]
  },
  {
   "cell_type": "markdown",
   "metadata": {},
   "source": [
    "### pythongraphics\n",
    "    -lib -turtle"
   ]
  },
  {
   "cell_type": "markdown",
   "metadata": {},
   "source": [
    "## package\n",
    "    -a collection of modules(single python file.py)\n",
    "## module\n",
    "    -a sinf=gle python file that contain group of functions\n",
    "    - package >subpackage >modules>functions>statements"
   ]
  },
  {
   "cell_type": "code",
   "execution_count": 17,
   "metadata": {},
   "outputs": [
    {
     "data": {
      "text/plain": [
       "123"
      ]
     },
     "execution_count": 17,
     "metadata": {},
     "output_type": "execute_result"
    }
   ],
   "source": [
    "import math\n",
    "math.floor(123.78)"
   ]
  },
  {
   "cell_type": "code",
   "execution_count": 18,
   "metadata": {},
   "outputs": [
    {
     "data": {
      "text/plain": [
       "2346"
      ]
     },
     "execution_count": 18,
     "metadata": {},
     "output_type": "execute_result"
    }
   ],
   "source": [
    "math.ceil(2345.78)"
   ]
  },
  {
   "cell_type": "code",
   "execution_count": 19,
   "metadata": {},
   "outputs": [
    {
     "data": {
      "text/plain": [
       "3628800"
      ]
     },
     "execution_count": 19,
     "metadata": {},
     "output_type": "execute_result"
    }
   ],
   "source": [
    "from math import factorial as fact\n",
    "fact(10)"
   ]
  },
  {
   "cell_type": "code",
   "execution_count": 21,
   "metadata": {},
   "outputs": [
    {
     "data": {
      "text/plain": [
       "1.029901674514563e+166"
      ]
     },
     "execution_count": 21,
     "metadata": {},
     "output_type": "execute_result"
    }
   ],
   "source": [
    "from math import  gamma as gam\n",
    "gam(105)"
   ]
  },
  {
   "cell_type": "code",
   "execution_count": 22,
   "metadata": {},
   "outputs": [
    {
     "data": {
      "text/plain": [
       "3"
      ]
     },
     "execution_count": 22,
     "metadata": {},
     "output_type": "execute_result"
    }
   ],
   "source": [
    "from math import gcd as gcd\n",
    "gcd(21,3)"
   ]
  },
  {
   "cell_type": "code",
   "execution_count": 34,
   "metadata": {},
   "outputs": [
    {
     "name": "stdout",
     "output_type": "stream",
     "text": [
      "17 19 15 3 14 14 21 16 9 16 "
     ]
    }
   ],
   "source": [
    "import random\n",
    "def generaterandomni(n,lb,ub):\n",
    "    for i in range(0,n):\n",
    "        print(random.randint(lb,ub+1),end=\" \")\n",
    "    return\n",
    "generaterandomni(10,0,20)"
   ]
  },
  {
   "cell_type": "code",
   "execution_count": 66,
   "metadata": {},
   "outputs": [
    {
     "name": "stdout",
     "output_type": "stream",
     "text": [
      "enter the no: 20\n",
      "try again\n"
     ]
    }
   ],
   "source": [
    "#game to generate random no and give an input\n",
    "#if input eqauls to one of the random no then print congrats else try again\n",
    "import random\n",
    "def generaterandomni(n,lb,ub):\n",
    "    li=[]\n",
    "    for i in range(0,n):\n",
    "       li.append(random.randint(lb,ub+1))\n",
    "    return li\n",
    "def check(num):\n",
    "    li=generaterandomni(10,0,50)\n",
    "    if num in li:\n",
    "        print(\"congrats\")\n",
    "    else:\n",
    "        print(\"try again\")\n",
    "num=int(input(\"enter the no: \"))\n",
    "check(num)"
   ]
  },
  {
   "cell_type": "code",
   "execution_count": 67,
   "metadata": {},
   "outputs": [],
   "source": [
    "#draw with python graphics\n",
    "# import the package Turtle\n",
    "#all the files available in this file\n",
    "import turtle\n",
    "# Object to a turtle\n",
    "al=turtle.Turtle()\n",
    "al.forward(100)\n",
    "al.right(270)\n",
    "al.forward(100)\n",
    "al.left(45)\n",
    "al.forward(70)\n",
    "al.left(90)\n",
    "al.forward(70)\n",
    "#done() -- close the turtle\n",
    "turtle.done()\n"
   ]
  }
 ],
 "metadata": {
  "kernelspec": {
   "display_name": "Python 3",
   "language": "python",
   "name": "python3"
  },
  "language_info": {
   "codemirror_mode": {
    "name": "ipython",
    "version": 3
   },
   "file_extension": ".py",
   "mimetype": "text/x-python",
   "name": "python",
   "nbconvert_exporter": "python",
   "pygments_lexer": "ipython3",
   "version": "3.7.3"
  }
 },
 "nbformat": 4,
 "nbformat_minor": 2
}
