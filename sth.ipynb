{
 "cells": [
  {
   "cell_type": "code",
   "execution_count": 1,
   "metadata": {},
   "outputs": [
    {
     "name": "stdout",
     "output_type": "stream",
     "text": [
      "enter n5555\n",
      "7714506\n"
     ]
    }
   ],
   "source": [
    "i=int(input('enter n'))\n",
    "k=1\n",
    "m=0\n",
    "while k<=i:\n",
    "    if k%2==0:\n",
    "        m+=k\n",
    "    k=k+1\n",
    "print(m)    "
   ]
  },
  {
   "cell_type": "code",
   "execution_count": 2,
   "metadata": {},
   "outputs": [
    {
     "name": "stdout",
     "output_type": "stream",
     "text": [
      "enter a number5456\n",
      "6\n",
      "5\n",
      "4\n",
      "5\n"
     ]
    }
   ],
   "source": [
    "i=int(input('enter a number'))\n",
    "while i!=0:\n",
    "    print(i%10)\n",
    "    i=i//10\n"
   ]
  },
  {
   "cell_type": "code",
   "execution_count": 3,
   "metadata": {},
   "outputs": [
    {
     "name": "stdout",
     "output_type": "stream",
     "text": [
      "30\n"
     ]
    }
   ],
   "source": [
    "def evendigsum(n):\n",
    "    i=1\n",
    "    p=0\n",
    "    for i in range(1,n+1):\n",
    "        if i%2==0:\n",
    "            p+=i\n",
    "        i+=1\n",
    "    print(p)\n",
    "evendigsum(10)    "
   ]
  },
  {
   "cell_type": "code",
   "execution_count": 4,
   "metadata": {},
   "outputs": [
    {
     "name": "stdout",
     "output_type": "stream",
     "text": [
      "9\n"
     ]
    }
   ],
   "source": [
    "def largedig(i):\n",
    "    m=0\n",
    "    n=0\n",
    "    while i!=0:\n",
    "        m=i%10\n",
    "        i//=10\n",
    "        if n<m:\n",
    "            n=m\n",
    "    print(n)\n",
    "largedig(19535)\n",
    "        "
   ]
  },
  {
   "cell_type": "code",
   "execution_count": 5,
   "metadata": {},
   "outputs": [
    {
     "name": "stdout",
     "output_type": "stream",
     "text": [
      "enter56161\n",
      "no\n"
     ]
    }
   ],
   "source": [
    "def fact(i):\n",
    "    p=1\n",
    "    while i>0:\n",
    "        p*=i\n",
    "        i-=1\n",
    "    return p        \n",
    "i=int(input('enter'))\n",
    "n=i\n",
    "m=0\n",
    "p=0\n",
    "while i!=0:\n",
    "    m=i%10\n",
    "    i//=10\n",
    "    p+=fact(m)\n",
    "if(p==n):\n",
    "    print('yes')\n",
    "else:\n",
    "    print('no')\n"
   ]
  },
  {
   "cell_type": "markdown",
   "metadata": {},
   "source": [
    "# lists methods"
   ]
  },
  {
   "cell_type": "code",
   "execution_count": 6,
   "metadata": {},
   "outputs": [
    {
     "data": {
      "text/plain": [
       "4"
      ]
     },
     "execution_count": 6,
     "metadata": {},
     "output_type": "execute_result"
    }
   ],
   "source": [
    "li=[3,5,3,4,2,2]\n",
    "#li.append(29) #ADD AT LAST\n",
    "#li.insert(2,76)#INSERT AT ADDRESS AND VALUE\n",
    "#print(li)\n",
    "#li.count(5)#COUNTS NUMBER OF OCCURENCESS OF A VALUE\n",
    "li.index(2)#RETURNS THE ADDRESS OF NO\n",
    "#li.sort()#SORTS ASCENDING\n",
    "#print(li)\n",
    "#li.pop()\n",
    "#print(li)"
   ]
  },
  {
   "cell_type": "code",
   "execution_count": 7,
   "metadata": {},
   "outputs": [
    {
     "name": "stdout",
     "output_type": "stream",
     "text": [
      "5\n",
      "2\n"
     ]
    }
   ],
   "source": [
    "def large():\n",
    "    li.sort()\n",
    "    return li[-1]\n",
    "def genl(n):\n",
    "    return li[-n]\n",
    "print(large())\n",
    "print(genl(5))"
   ]
  },
  {
   "cell_type": "code",
   "execution_count": 8,
   "metadata": {},
   "outputs": [
    {
     "name": "stdout",
     "output_type": "stream",
     "text": [
      "2\n",
      "3\n"
     ]
    }
   ],
   "source": [
    "def small():\n",
    "    return li[0]\n",
    "def gensmall(u):\n",
    "    return li[u]\n",
    "print(small())\n",
    "print(gensmall(3))"
   ]
  },
  {
   "cell_type": "markdown",
   "metadata": {},
   "source": [
    "# file handling in python\n",
    "- file - document which contains some functions and resides or permanent\n",
    "- different types of fies --.txt,.pdf,doc,.ppf,ets\n",
    "- input: Keyboard\n",
    "- output : file system"
   ]
  },
  {
   "cell_type": "code",
   "execution_count": 9,
   "metadata": {},
   "outputs": [
    {
     "name": "stdout",
     "output_type": "stream",
     "text": [
      "file is successfully created\n"
     ]
    }
   ],
   "source": [
    "def cretefile(filename):\n",
    "    f=open(filename,'w')\n",
    "    for i in range(10):\n",
    "        f.write('this is %d line \\n'%i)\n",
    "    print('file is successfully created')\n",
    "    return\n",
    "cretefile('teja.txt')"
   ]
  },
  {
   "cell_type": "code",
   "execution_count": 10,
   "metadata": {},
   "outputs": [
    {
     "ename": "IndentationError",
     "evalue": "unexpected indent (<ipython-input-10-33b0cbcaa870>, line 2)",
     "output_type": "error",
     "traceback": [
      "\u001b[1;36m  File \u001b[1;32m\"<ipython-input-10-33b0cbcaa870>\"\u001b[1;36m, line \u001b[1;32m2\u001b[0m\n\u001b[1;33m    f=open(filename,'a')\u001b[0m\n\u001b[1;37m    ^\u001b[0m\n\u001b[1;31mIndentationError\u001b[0m\u001b[1;31m:\u001b[0m unexpected indent\n"
     ]
    }
   ],
   "source": [
    "def cretefile(filename):t\n",
    "    f=open(filename,'a')\n",
    "    for i in range(10):\n",
    "        f.write('this is %d line \\n'%i)\n",
    "    print('file is successfully created')\n",
    "    return\n",
    "ctretefile('teja.txt')"
   ]
  },
  {
   "cell_type": "code",
   "execution_count": null,
   "metadata": {},
   "outputs": [],
   "source": [
    "def readfile(filename):\n",
    "    f=open(filename,'r')\n",
    "    if f.mode =='r':\n",
    "        a=f.read()\n",
    "        print(a)\n",
    "    f.close()\n",
    "    return\n",
    "readfile('teja.txt')"
   ]
  },
  {
   "cell_type": "code",
   "execution_count": null,
   "metadata": {},
   "outputs": [],
   "source": [
    "def wordCount(filename):\n",
    "    with open(filename,'r') as f:\n",
    "        if f.mode =='r':\n",
    "            a=f.read()\n",
    "            li=a.split()\n",
    "            print(len(li))\n",
    "wordCount('teja.txt')"
   ]
  },
  {
   "cell_type": "code",
   "execution_count": null,
   "metadata": {
    "scrolled": true
   },
   "outputs": [],
   "source": [
    "def charcount(filename):\n",
    "    with open(filename,'r') as f:\n",
    "        if f.mode =='r':\n",
    "            a=f.read()\n",
    "            li=list(a)\n",
    "            print(li.count('\\n')\n",
    "charcount('poop.txt')"
   ]
  },
  {
   "cell_type": "code",
   "execution_count": null,
   "metadata": {},
   "outputs": [],
   "source": [
    "def wordCount(filename,n):\n",
    "    with open(filename,'r') as f:\n",
    "        if f.mode =='r':\n",
    "            a=f.read()\n",
    "            li=a.split()\n",
    "            print(li.count(n))\n",
    "            \n",
    "wordCount('teja.txt','0')"
   ]
  },
  {
   "cell_type": "code",
   "execution_count": null,
   "metadata": {},
   "outputs": [],
   "source": [
    "def caseCount(filename):\n",
    "    with open(filename,'r') as f:\n",
    "        if f.mode =='r':\n",
    "            a=f.read()\n",
    "            li=list(a)\n",
    "            c=0\n",
    "            for i in range(0,len(li)):\n",
    "                if(li[i].isupper== True):\n",
    "                    c+=1\n",
    "            print(c)\n",
    "caseCount('teja.txt')"
   ]
  },
  {
   "cell_type": "code",
   "execution_count": null,
   "metadata": {},
   "outputs": [],
   "source": [
    "l='OKO'\n",
    "l.isupper()\n"
   ]
  },
  {
   "cell_type": "code",
   "execution_count": null,
   "metadata": {},
   "outputs": [],
   "source": [
    "#classic version of printing\n",
    "li=['heyy','there']\n",
    "print('%s %s'%(li[0],li[1]))"
   ]
  },
  {
   "cell_type": "code",
   "execution_count": null,
   "metadata": {},
   "outputs": [],
   "source": [
    "li=[1,3,34]\n",
    "print(\"{0} {1} \".format(l[0],li[1]))\n"
   ]
  },
  {
   "cell_type": "code",
   "execution_count": null,
   "metadata": {},
   "outputs": [],
   "source": []
  },
  {
   "cell_type": "markdown",
   "metadata": {},
   "source": []
  },
  {
   "cell_type": "markdown",
   "metadata": {},
   "source": [
    "# data structures\n",
    "  - tuples\n",
    "  - lists\n",
    "  - dictionaries\n",
    "## dictionaries \n",
    "  - it only works on ui=nique data \n",
    "  - key,value is the unique identifier value \n",
    "  - each value is seperated from value colon\n",
    "  - each key and value is seperated by comma\n",
    "  - dict are enclosed in curl brackets"
   ]
  },
  {
   "cell_type": "code",
   "execution_count": null,
   "metadata": {},
   "outputs": [],
   "source": [
    "dict={'f':\"lokesh\",'m':'kopwnmf'}\n",
    "dict['f']"
   ]
  },
  {
   "cell_type": "markdown",
   "metadata": {},
   "source": [
    "# contact details"
   ]
  },
  {
   "cell_type": "code",
   "execution_count": null,
   "metadata": {},
   "outputs": [],
   "source": [
    "contact={}\n",
    "def addcontact(n,p):\n",
    "    if n not in contact:\n",
    "        contact[n]=p\n",
    "        print('contact details added succesfully')\n",
    "    else:\n",
    "        print('contact already exists ,would you like to overwrite')\n",
    "        p=input()\n",
    "        if p=='yes':\n",
    "            contact[n]=p\n",
    "def deletecontact(n):\n",
    "    del contact[n]\n",
    "    print('deleted successfully')\n",
    "addcontact('loki',8099031145)\n",
    "deletecontact('loki')\n",
    "         "
   ]
  },
  {
   "cell_type": "markdown",
   "metadata": {},
   "source": [
    "# tuples\n",
    " - enclosed by () braces\n",
    "# differences between tuples and lists\n",
    "  - lists are mutable whereas tuples are immutable "
   ]
  },
  {
   "cell_type": "markdown",
   "metadata": {},
   "source": [
    "### t1=(1,2,3,4)\n",
    "print(t1)"
   ]
  },
  {
   "cell_type": "markdown",
   "metadata": {},
   "source": [
    "# standard libraries\n",
    "\n",
    "\n"
   ]
  },
  {
   "cell_type": "code",
   "execution_count": null,
   "metadata": {},
   "outputs": [],
   "source": [
    "import re\n",
    "sand='^[a-zA-Z0-9]{3,4,5}&'\n",
    "p=input()\n",
    "p=str(p)\n",
    "if re.match(sand,p):\n",
    "    print('ok')\n",
    "else:\n",
    "    print('not ok')\n"
   ]
  },
  {
   "cell_type": "code",
   "execution_count": null,
   "metadata": {},
   "outputs": [],
   "source": [
    "#validate indian phone number\n",
    "import re\n",
    "pattern='^[6-9][0-9]{9}$|^[6-9][0-9]{9}$|^[+][9][1][6-9][0-9]{9}$'\n",
    "o=input()\n",
    "if re.match(pattern,o):\n",
    "    print('ok')\n",
    "else:\n",
    "    print('not ok')\n",
    "\n",
    "    "
   ]
  },
  {
   "cell_type": "code",
   "execution_count": null,
   "metadata": {},
   "outputs": [],
   "source": []
  },
  {
   "cell_type": "code",
   "execution_count": null,
   "metadata": {},
   "outputs": [],
   "source": [
    "984"
   ]
  }
 ],
 "metadata": {
  "kernelspec": {
   "display_name": "Python 3",
   "language": "python",
   "name": "python3"
  },
  "language_info": {
   "codemirror_mode": {
    "name": "ipython",
    "version": 3
   },
   "file_extension": ".py",
   "mimetype": "text/x-python",
   "name": "python",
   "nbconvert_exporter": "python",
   "pygments_lexer": "ipython3",
   "version": "3.7.3"
  }
 },
 "nbformat": 4,
 "nbformat_minor": 2
}
