{
 "cells": [
  {
   "cell_type": "markdown",
   "metadata": {},
   "source": [
    "### string slicing"
   ]
  },
  {
   "cell_type": "code",
   "execution_count": 6,
   "metadata": {},
   "outputs": [
    {
     "name": "stdout",
     "output_type": "stream",
     "text": [
      "p\n",
      "y\n",
      "6\n",
      "n\n",
      "n\n",
      "o\n"
     ]
    }
   ],
   "source": [
    "s=\"python\"\n",
    "print(s[0])#printing first charater of the string\n",
    "print(s[1])#printing second charater of the string\n",
    "print(len(s))#prnting lenght of the string\n",
    "print(s[len(s)-1])#  way to access last character ofstring\n",
    "print(s[-1])#another way to access last character of string\n",
    "print(s[-2])"
   ]
  },
  {
   "cell_type": "code",
   "execution_count": 18,
   "metadata": {},
   "outputs": [
    {
     "name": "stdout",
     "output_type": "stream",
     "text": [
      "py\n",
      "on\n",
      "hon\n",
      "tho\n",
      "ytho\n"
     ]
    }
   ],
   "source": [
    "print (s[0:2])#accessing of first two characters\n",
    "print (s[-2:])#accessing of last two characters\n",
    "print (s[3:])#ACCESSING THE LAST THREE CHARACTERS\n",
    "print (s[2:5])#ACCESSING THE CHARACTERS FROM 2 AND TO 5\n",
    "print (s[1:-1])#ACCESSING THE CHARACTERS EXECPT FIRST AND LAST"
   ]
  },
  {
   "cell_type": "code",
   "execution_count": 28,
   "metadata": {},
   "outputs": [
    {
     "name": "stdout",
     "output_type": "stream",
     "text": [
      "pto\n",
      "nhy\n",
      "nohtyp\n"
     ]
    }
   ],
   "source": [
    "print(s[::2])#accessing alternative character\n",
    "print(s[::-2])#accessing alternative characters in reverse order\n",
    "print(s[-1::-1])#reverse string"
   ]
  },
  {
   "cell_type": "markdown",
   "metadata": {},
   "source": [
    "## function with strings"
   ]
  },
  {
   "cell_type": "code",
   "execution_count": 34,
   "metadata": {},
   "outputs": [
    {
     "name": "stdout",
     "output_type": "stream",
     "text": [
      "enter a word: aha\n",
      "palin\n"
     ]
    }
   ],
   "source": [
    "def revstr(s):\n",
    "    if s[-1::-1]==s:\n",
    "        print(\"palin\")\n",
    "    else:\n",
    "        print(\"not a palin\")\n",
    "revstr(input(\"enter a word: \"))"
   ]
  },
  {
   "cell_type": "code",
   "execution_count": 46,
   "metadata": {},
   "outputs": [
    {
     "name": "stdout",
     "output_type": "stream",
     "text": [
      "H L "
     ]
    }
   ],
   "source": [
    "#ASCII\n",
    "#A-Z :65-90\n",
    "#a-z :97-122\n",
    "#0-9 :48-57\n",
    "# space -32\n",
    "def upper(s):\n",
    "    for x in range(len(s)):\n",
    "        if ord(s[x]) >= 65 and ord(s[x]) <= 90:\n",
    "            print(s[x],end=\" \")\n",
    "    return\n",
    "upper(\"HeLlo\")"
   ]
  },
  {
   "cell_type": "code",
   "execution_count": 59,
   "metadata": {},
   "outputs": [
    {
     "name": "stdout",
     "output_type": "stream",
     "text": [
      "enter a word:  GoOD\n",
      "programming\n"
     ]
    }
   ],
   "source": [
    "# function to return th ouptut as samecount or programming\n",
    "#samecount- no upper case chars equal to lowercase chars\n",
    "#count of lowercase char not equal to uppercase chars\n",
    "def check(s):\n",
    "    h=0\n",
    "    for x in range(len(s)):\n",
    "        if ord(s[x])>=65 and ord(s[x])<=90:\n",
    "            h=h+1\n",
    "    if(h==len(s)-h):\n",
    "        print(\"samecount\")\n",
    "    else:\n",
    "        print(\"programming\")\n",
    "    return\n",
    "check(str(input(\"enter a word:  \")))\n",
    "            "
   ]
  },
  {
   "cell_type": "code",
   "execution_count": 66,
   "metadata": {},
   "outputs": [
    {
     "name": "stdout",
     "output_type": "stream",
     "text": [
      "enter a word:  m9u\n"
     ]
    }
   ],
   "source": [
    "#extract digits from agiven string\n",
    "#hold\n",
    "def checki(s):\n",
    "    m=0\n",
    "    for x in range(0,len(s)):\n",
    "        if s[x]==m:\n",
    "            print(s[x],end=\" \")\n",
    "        m=m+1\n",
    "        else:\n",
    "            \n",
    "    return\n",
    "checki(str(input(\"enter a word:  \")))"
   ]
  },
  {
   "cell_type": "code",
   "execution_count": 70,
   "metadata": {},
   "outputs": [
    {
     "name": "stdout",
     "output_type": "stream",
     "text": [
      "enter a word:  6hy\n",
      "6"
     ]
    }
   ],
   "source": [
    "#extract digits from agiven string\n",
    "def checki(s):\n",
    "    for x in range(0,len(s)):\n",
    "     if ord(s[x])>=48 and ord(s[x])<=57:\n",
    "        print(s[x],end=\"\")\n",
    "    return\n",
    "checki(str(input(\"enter a word:  \")))"
   ]
  },
  {
   "cell_type": "code",
   "execution_count": null,
   "metadata": {},
   "outputs": [],
   "source": [
    "#extract digits from agiven string and add them\n",
    "def checki(s):\n",
    "    m=0\n",
    "    for x in range(0,len(s)):\n",
    "     if ord(s[x])>=48 and ord(s[x])<=57:\n",
    "        k=int(s[x])\n",
    "        m=m+k\n",
    "    print(m)\n",
    "    return\n",
    "checki(str(input(\"enter a word:  \")))"
   ]
  },
  {
   "cell_type": "code",
   "execution_count": 76,
   "metadata": {},
   "outputs": [
    {
     "name": "stdout",
     "output_type": "stream",
     "text": [
      "enter a sentence:   welcome to python\n",
      "TO"
     ]
    }
   ],
   "source": [
    "#function to print seconf word in uppercase\n",
    "def modify(s):\n",
    "    h=0\n",
    "    for i in range(len(s)):\n",
    "        if ord(s[i])==32:\n",
    "            h+=1\n",
    "        if h==1:\n",
    "            if ord(s[i])>=65 and ord(s[i])<=90:\n",
    "                print(s[i],end=\"\")\n",
    "            elif ord(s[i])>=97 and ord(s[i])<=122:\n",
    "                print(chr(ord(s[i])-32),end=\"\")\n",
    "        if h==2:\n",
    "            break\n",
    "    return\n",
    "modify(str(input(\"enter a sentence:   \")))"
   ]
  },
  {
   "cell_type": "markdown",
   "metadata": {},
   "source": [
    "### list\n",
    "    -one of data structer in python\n",
    "    -data structers means to store ,sort and search options\n",
    "    -It's one comman data structers in pyhton,the items of the list is sperated by a comma and enclosed in []\n",
    "        -example\n",
    "            list=[1,2,3]\n",
    "            list1=[gitam,1,college]"
   ]
  },
  {
   "cell_type": "code",
   "execution_count": 83,
   "metadata": {},
   "outputs": [
    {
     "name": "stdout",
     "output_type": "stream",
     "text": [
      "[1, 2, 3]\n",
      "1\n",
      "3\n",
      "[3, 2, 1]\n",
      "[2, 3]\n"
     ]
    }
   ],
   "source": [
    "li=[1,2,3]\n",
    "print(li)\n",
    "print(li[0])\n",
    "print(li[-1])\n",
    "print(li[-1::-1])\n",
    "print(li[1:])"
   ]
  },
  {
   "cell_type": "code",
   "execution_count": 86,
   "metadata": {},
   "outputs": [
    {
     "name": "stdout",
     "output_type": "stream",
     "text": [
      "['lol', 4567]\n"
     ]
    }
   ],
   "source": [
    "li=[1234,4567,891011]\n",
    "li[0]=\"lol\"\n",
    "del li[2]\n",
    "print(li)"
   ]
  },
  {
   "cell_type": "code",
   "execution_count": 95,
   "metadata": {},
   "outputs": [
    {
     "name": "stdout",
     "output_type": "stream",
     "text": [
      "4\n",
      "True\n",
      "False\n",
      "[1, 2, 3, 4, 1, 2, 3, 4]\n",
      "1\n",
      "2\n",
      "3\n",
      "4\n",
      "1234"
     ]
    }
   ],
   "source": [
    "#list operations\n",
    "li=[1,2,3,4]\n",
    "#len of list\n",
    "print(len(li))\n",
    "#to know certain item is in list or not\n",
    "print(4 in li)\n",
    "print(62 in li)\n",
    "#list repitaion\n",
    "print(li*2)\n",
    "#access list iteam from iteration\n",
    "for i in range(len(li)):\n",
    "    print(li[i],end=\"\")  \n",
    "    print( )\n",
    "#2nd way\n",
    "for i in li:\n",
    "    print(i,end=\"\")"
   ]
  },
  {
   "cell_type": "code",
   "execution_count": 116,
   "metadata": {},
   "outputs": [
    {
     "name": "stdout",
     "output_type": "stream",
     "text": [
      "5\n",
      "1\n",
      "15\n",
      "3.0\n",
      "[1, 2, 3, 4, 5, 29]\n",
      "[1, 2, 56, 3, 4, 5, 29]\n"
     ]
    },
    {
     "data": {
      "text/plain": [
       "2"
      ]
     },
     "execution_count": 116,
     "metadata": {},
     "output_type": "execute_result"
    }
   ],
   "source": [
    "#basic list functions\n",
    "li=[1,2,3,4,5]\n",
    "print(max(li))#max no in list\n",
    "print(min(li))#min no in list\n",
    "print(sum(li))#sum of no in list\n",
    "print(sum(li)/len(li))#average of list\n",
    "li.append(29)#appending a element into list\n",
    "print(li)\n",
    "li.insert(2,56)#insert a value in the specific index\n",
    "print(li)\n",
    "li.append(2)\n",
    "li.count(2)#it returns a value of how amny times an object is repeated"
   ]
  },
  {
   "cell_type": "code",
   "execution_count": 175,
   "metadata": {},
   "outputs": [
    {
     "data": {
      "text/plain": [
       "4"
      ]
     },
     "execution_count": 175,
     "metadata": {},
     "output_type": "execute_result"
    }
   ],
   "source": [
    "#method of list object\n",
    "li=[1,4,2,3]\n",
    "li.sort()\n",
    "li.pop()#removes highest value\n",
    "li.count(1)#counts the no of times a number repeated\n",
    "li.append(4)\n",
    "li.pop(3)#remove items of specified index"
   ]
  },
  {
   "cell_type": "code",
   "execution_count": 178,
   "metadata": {},
   "outputs": [
    {
     "data": {
      "text/plain": [
       "4"
      ]
     },
     "execution_count": 178,
     "metadata": {},
     "output_type": "execute_result"
    }
   ],
   "source": [
    "li=[2,2,2,2]\n",
    "li.count(2)"
   ]
  },
  {
   "cell_type": "code",
   "execution_count": 135,
   "metadata": {},
   "outputs": [
    {
     "name": "stdout",
     "output_type": "stream",
     "text": [
      "[1, 1, 2, 2, 3, 3, 4, 4, 6, 6, 7, 7, 8, 8]\n"
     ]
    }
   ],
   "source": [
    "li=[1,4,3,2,8,6,7]\n",
    "li.extend(li)#extend the list with given list\n",
    "li.reverse()#reverse the  order of the list\n",
    "li.sort()\n",
    "print(li)"
   ]
  },
  {
   "cell_type": "code",
   "execution_count": 137,
   "metadata": {},
   "outputs": [
    {
     "name": "stdout",
     "output_type": "stream",
     "text": [
      "[1, 2, 3, 4, 5, 6, 7, 8]\n"
     ]
    }
   ],
   "source": [
    "li=[1,2,3,4]\n",
    "l=[5,6,7,8]\n",
    "li.extend(l)\n",
    "print(li)"
   ]
  },
  {
   "cell_type": "code",
   "execution_count": 141,
   "metadata": {
    "scrolled": true
   },
   "outputs": [
    {
     "name": "stdout",
     "output_type": "stream",
     "text": [
      "4\n",
      "7\n"
     ]
    }
   ],
   "source": [
    "#function to find the largest no in the list\n",
    "def large(li):\n",
    "    return li[-1]\n",
    "def genric(li,n):\n",
    "    li.sort()\n",
    "    return li[-n]\n",
    "li=[1,3,7,5,6,4]\n",
    "print(large(li))\n",
    "print(genric(li,1))\n",
    "\n"
   ]
  },
  {
   "cell_type": "code",
   "execution_count": 142,
   "metadata": {},
   "outputs": [
    {
     "name": "stdout",
     "output_type": "stream",
     "text": [
      "1\n",
      "1\n"
     ]
    }
   ],
   "source": [
    "#function to find the smallest no and genric least number in the list\n",
    "def least(li):\n",
    "    return li[0]\n",
    "def genric(li,n):\n",
    "    li.sort()\n",
    "    return li[n-1]\n",
    "li=[1,3,7,5,6,4]\n",
    "print(least(li))\n",
    "print(genric(li,1))"
   ]
  },
  {
   "cell_type": "markdown",
   "metadata": {},
   "source": [
    "## file handling in python\n",
    "    -file-document which contain some informationa and resides on apermenant devices\n",
    "    -differnrt types of file --,txt.,pdf,.doc,.ppf etc\n",
    "    -input-keyboard\n",
    "    -output-filesystem"
   ]
  },
  {
   "cell_type": "code",
   "execution_count": 151,
   "metadata": {},
   "outputs": [
    {
     "name": "stdout",
     "output_type": "stream",
     "text": [
      "file is succesfully created and data is tranfered\n"
     ]
    }
   ],
   "source": [
    "#function to create a file and write some data into the file\n",
    "def create(file):\n",
    "    f=open(file,'w')\n",
    "    for i in range(10):\n",
    "        f.write(\"this is a file %d\\n\"%i)\n",
    "    print(\"file is succesfully created and data is tranfered\")\n",
    "    return\n",
    "create('data.txt')"
   ]
  },
  {
   "cell_type": "code",
   "execution_count": 152,
   "metadata": {},
   "outputs": [
    {
     "name": "stdout",
     "output_type": "stream",
     "text": [
      "succesful\n"
     ]
    }
   ],
   "source": [
    "#function to append dat in to the file\n",
    "def append(file):\n",
    "    f=open(file,'a')\n",
    "    f.write(\"this is python\")\n",
    "    print(\"succesful\")\n",
    "    return\n",
    "append('data.txt')"
   ]
  },
  {
   "cell_type": "code",
   "execution_count": 165,
   "metadata": {},
   "outputs": [
    {
     "name": "stdout",
     "output_type": "stream",
     "text": [
      "this is a file 0\n",
      "this is a file 1\n",
      "this is a file 2\n",
      "this is a file 3\n",
      "this is a file 4\n",
      "this is a file 5\n",
      "this is a file 6\n",
      "this is a file 7\n",
      "this is a file 8\n",
      "this is a file 9\n",
      "this is python\n"
     ]
    }
   ],
   "source": [
    "#function to read the file\n",
    "def read(file):\n",
    "    f=open(file,'r')\n",
    "    if f.mode == 'r':\n",
    "        a=f.read()\n",
    "        print(a)\n",
    "    f.close()\n",
    "    return\n",
    "read('data.txt')"
   ]
  },
  {
   "cell_type": "code",
   "execution_count": 167,
   "metadata": {},
   "outputs": [
    {
     "name": "stdout",
     "output_type": "stream",
     "text": [
      "['python', 'programming']\n"
     ]
    }
   ],
   "source": [
    "#analysis of the file ==word count,char count,digit count\n",
    "s=\"python programming\"\n",
    "print(s.split())"
   ]
  },
  {
   "cell_type": "code",
   "execution_count": 146,
   "metadata": {},
   "outputs": [
    {
     "data": {
      "text/plain": [
       "'C:\\\\Users\\\\GOWTHAM SRI KARTHIK\\\\Desktop\\\\PROBLEM SOLVING AND PROGRAMMING'"
      ]
     },
     "execution_count": 146,
     "metadata": {},
     "output_type": "execute_result"
    }
   ],
   "source": [
    "pwd\n"
   ]
  },
  {
   "cell_type": "code",
   "execution_count": 168,
   "metadata": {},
   "outputs": [
    {
     "data": {
      "text/plain": [
       "53"
      ]
     },
     "execution_count": 168,
     "metadata": {},
     "output_type": "execute_result"
    }
   ],
   "source": [
    "# word count\n",
    "def wordcount(file):\n",
    "    with open(file,'r') as f:\n",
    "        if f.mode == 'r':\n",
    "            a=f.read()\n",
    "            li=a.split()\n",
    "    return len(li)\n",
    "wordcount('data.txt')\n",
    "            "
   ]
  },
  {
   "cell_type": "code",
   "execution_count": 1,
   "metadata": {},
   "outputs": [
    {
     "data": {
      "text/plain": [
       "184"
      ]
     },
     "execution_count": 1,
     "metadata": {},
     "output_type": "execute_result"
    }
   ],
   "source": [
    "# char count\n",
    "def charcount(file):\n",
    "    with open(file,'r') as f:\n",
    "        if f.mode == 'r':\n",
    "            a=f.read()\n",
    "            li= list(a)\n",
    "    return len(li)\n",
    "charcount('data.txt')"
   ]
  },
  {
   "cell_type": "code",
   "execution_count": 179,
   "metadata": {},
   "outputs": [
    {
     "name": "stdout",
     "output_type": "stream",
     "text": [
      "enter the word: python\n",
      "1\n"
     ]
    }
   ],
   "source": [
    "# word count of a specific word\n",
    "def wordcount(file,n):\n",
    "    with open(file,'r') as f:\n",
    "        if f.mode == 'r':\n",
    "            a=f.read()\n",
    "            li=a.split()\n",
    "            print(li.count(n))\n",
    "    return\n",
    "n=str(input(\"enter the word: \"))\n",
    "wordcount('data.txt',n)"
   ]
  },
  {
   "cell_type": "code",
   "execution_count": 4,
   "metadata": {},
   "outputs": [
    {
     "data": {
      "text/plain": [
       "11"
      ]
     },
     "execution_count": 4,
     "metadata": {},
     "output_type": "execute_result"
    }
   ],
   "source": [
    "# line count\n",
    "def linecount(file):\n",
    "    with open(file,'r') as f:\n",
    "        if f.mode == 'r':\n",
    "            a=f.read()\n",
    "            li=a.split('\\n')\n",
    "    return len(li)\n",
    "linecount('data.txt')\n",
    "            "
   ]
  },
  {
   "cell_type": "code",
   "execution_count": 24,
   "metadata": {},
   "outputs": [
    {
     "data": {
      "text/plain": [
       "'uppercase:0 lowercase:122 digits:10'"
      ]
     },
     "execution_count": 24,
     "metadata": {},
     "output_type": "execute_result"
    }
   ],
   "source": [
    "def casecount(file):\n",
    "    h=0\n",
    "    m=0\n",
    "    n=0\n",
    "    with open(file,'r') as f:\n",
    "        if f.mode == 'r':\n",
    "            a=f.read()\n",
    "            li=list(a)\n",
    "        for x in range(len(li)): \n",
    "            if ord(li[x]) >= 65 and ord(li[x]) <= 90:\n",
    "                h=h+1\n",
    "            elif ord(li[x])>=97 and ord(li[x])<=122:\n",
    "                m=m+1\n",
    "            elif ord(li[x])>=48 and ord(li[x])<=57:\n",
    "                n=n+1\n",
    "    output='uppercase:{0} lowercase:{1} digits:{2}'.format(h,m,n)\n",
    "    return output\n",
    "casecount('data.txt')"
   ]
  },
  {
   "cell_type": "code",
   "execution_count": 19,
   "metadata": {},
   "outputs": [
    {
     "name": "stdout",
     "output_type": "stream",
     "text": [
      "[1, 2]\n"
     ]
    }
   ],
   "source": [
    "li=[1,2,3]\n",
    "print(li[:-1])"
   ]
  }
 ],
 "metadata": {
  "kernelspec": {
   "display_name": "Python 3",
   "language": "python",
   "name": "python3"
  },
  "language_info": {
   "codemirror_mode": {
    "name": "ipython",
    "version": 3
   },
   "file_extension": ".py",
   "mimetype": "text/x-python",
   "name": "python",
   "nbconvert_exporter": "python",
   "pygments_lexer": "ipython3",
   "version": "3.7.3"
  }
 },
 "nbformat": 4,
 "nbformat_minor": 2
}
